{
 "cells": [
  {
   "cell_type": "code",
   "execution_count": null,
   "id": "b4164f49-98c7-4e3a-bb6b-490dab1b1874",
   "metadata": {},
   "outputs": [
    {
     "name": "stdout",
     "output_type": "stream",
     "text": [
      "Chatbot: Hi! I'm here to help. Type 'exit' to end the conversation.\n"
     ]
    },
    {
     "name": "stdin",
     "output_type": "stream",
     "text": [
      "You:  hii\n"
     ]
    },
    {
     "name": "stdout",
     "output_type": "stream",
     "text": [
      "Chatbot: Sorry, I didn't understand that. Could you please rephrase?\n"
     ]
    },
    {
     "name": "stdin",
     "output_type": "stream",
     "text": [
      "You:  what is your name?\n"
     ]
    },
    {
     "name": "stdout",
     "output_type": "stream",
     "text": [
      "Chatbot: I'm a chatbot created to assist you. You can call me Chatbot.\n"
     ]
    }
   ],
   "source": [
    "import re\n",
    "\n",
    "# Define a function to handle user input and respond\n",
    "def chatbot_response(user_input):\n",
    "    # Convert input to lowercase to make the matching case-insensitive\n",
    "    user_input = user_input.lower()\n",
    "    \n",
    "    # Basic greetings\n",
    "    if re.search(r'\\b(hi|hello|hey|hola)\\b', user_input):\n",
    "        return \"Hello! How can I help you today?\"\n",
    "    \n",
    "    # Asking for the bot's name\n",
    "    elif re.search(r'\\b(name|your name)\\b', user_input):\n",
    "        return \"I'm a chatbot created to assist you. You can call me Chatbot.\"\n",
    "    \n",
    "    # Asking for the bot's purpose\n",
    "    elif re.search(r'\\b(what are you|what do you do)\\b', user_input):\n",
    "        return \"I'm here to answer your questions and have a conversation with you!\"\n",
    "    \n",
    "    # Asking for a time or date-related query\n",
    "    elif re.search(r'\\b(time|date)\\b', user_input):\n",
    "        from datetime import datetime\n",
    "        return f\"The current date and time is {datetime.now().strftime('%Y-%m-%d %H:%M:%S')}.\"\n",
    "    \n",
    "    # General question for help\n",
    "    elif re.search(r'\\b(help|assist)\\b', user_input):\n",
    "        return \"Sure! I can help with a variety of questions. Try asking me something like: 'What's your name?' or 'What time is it?'\"\n",
    "    \n",
    "    # Farewell\n",
    "    elif re.search(r'\\b(bye|goodbye|see you)\\b', user_input):\n",
    "        return \"Goodbye! Have a great day!\"\n",
    "    \n",
    "    # Catch-all response for unknown questions\n",
    "    else:\n",
    "        return \"Sorry, I didn't understand that. Could you please rephrase?\"\n",
    "\n",
    "# Main chatbot loop\n",
    "def chatbot():\n",
    "    print(\"Chatbot: Hi! I'm here to help. Type 'exit' to end the conversation.\")\n",
    "    \n",
    "    while True:\n",
    "        # Take user input\n",
    "        user_input = input(\"You: \")\n",
    "        \n",
    "        # Check if the user wants to exit the conversation\n",
    "        if user_input.lower() == 'exit':\n",
    "            print(\"Chatbot: Goodbye!\")\n",
    "            break\n",
    "        \n",
    "        # Get and display the chatbot's response\n",
    "        response = chatbot_response(user_input)\n",
    "        print(f\"Chatbot: {response}\")\n",
    "\n",
    "# Run the chatbot\n",
    "if __name__ == \"__main__\":\n",
    "    chatbot()\n"
   ]
  },
  {
   "cell_type": "code",
   "execution_count": null,
   "id": "068a8339-a688-43e8-b2e8-2b515fe9b027",
   "metadata": {},
   "outputs": [],
   "source": []
  }
 ],
 "metadata": {
  "kernelspec": {
   "display_name": "Python 3 (ipykernel)",
   "language": "python",
   "name": "python3"
  },
  "language_info": {
   "codemirror_mode": {
    "name": "ipython",
    "version": 3
   },
   "file_extension": ".py",
   "mimetype": "text/x-python",
   "name": "python",
   "nbconvert_exporter": "python",
   "pygments_lexer": "ipython3",
   "version": "3.12.7"
  }
 },
 "nbformat": 4,
 "nbformat_minor": 5
}
